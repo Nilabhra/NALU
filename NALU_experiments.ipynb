{
 "cells": [
  {
   "cell_type": "code",
   "execution_count": 1,
   "metadata": {},
   "outputs": [],
   "source": [
    "import torch\n",
    "from torch import nn as nn\n",
    "from models.nac import NAC\n",
    "from models.nalu import NALU\n",
    "from utilities.train_utils import get_eval_loss, get_eval_preds\n",
    "from utilities.train_utils import train\n",
    "from torch.optim import RMSprop, Adam\n",
    "import numpy as np\n",
    "import pandas as pd"
   ]
  },
  {
   "cell_type": "markdown",
   "metadata": {},
   "source": [
    "### Function to create toy dataset"
   ]
  },
  {
   "cell_type": "code",
   "execution_count": 2,
   "metadata": {},
   "outputs": [],
   "source": [
    "def make_data(min_val, max_val, num_obs, op):\n",
    "    '''\n",
    "    Generates toy data and target by sampling values from a\n",
    "    uniform distribution parameterized by min_val and max_val.\n",
    "    '''\n",
    "    data = np.random.uniform(min_val, max_val, size=(num_obs, 2))\n",
    "    if op == '+':\n",
    "        targets = data[:, 0] + data[:, 1]\n",
    "    elif op == '-':\n",
    "        targets = data[:, 0] - data[:, 1]\n",
    "    elif op == '*':\n",
    "        targets = data[:, 0] * data[:, 1]\n",
    "    elif op == '/':\n",
    "        targets = data[:, 0] / data[:, 1]\n",
    "    elif op == '^2':\n",
    "        data = np.random.uniform(min_val, max_val, size=(num_obs, 1))\n",
    "        targets = data ** 2\n",
    "    elif op == 'sqrt':\n",
    "        data = np.random.uniform(min_val, max_val, size=(num_obs, 1))\n",
    "        targets = np.sqrt(data)\n",
    "    return data, targets"
   ]
  },
  {
   "cell_type": "markdown",
   "metadata": {},
   "source": [
    "### Function to compute accuracy of predictions"
   ]
  },
  {
   "cell_type": "code",
   "execution_count": 3,
   "metadata": {},
   "outputs": [],
   "source": [
    "def accuracy_score(preds, targets, tol=1e-3):\n",
    "    '''\n",
    "    Computes prediction accuracy by checking if\n",
    "    predictions are equal to the target upto `tol`\n",
    "    places after decimal.\n",
    "    '''\n",
    "    preds = preds.cpu().numpy().flatten()\n",
    "    targets = targets.cpu().numpy().flatten()\n",
    "    accuracy = np.isclose(preds, targets, rtol=tol)\n",
    "    accuracy = accuracy.astype(np.int32).mean()\n",
    "    return accuracy * 100"
   ]
  },
  {
   "cell_type": "markdown",
   "metadata": {},
   "source": [
    "### Running experiments"
   ]
  },
  {
   "cell_type": "code",
   "execution_count": 5,
   "metadata": {
    "scrolled": false
   },
   "outputs": [
    {
     "name": "stderr",
     "output_type": "stream",
     "text": [
      "[Epoch: 1] Training loss after 47 batches: 1.737:  15%|█▍        | 46/313 [00:00<00:01, 253.07it/s]     "
     ]
    },
    {
     "name": "stdout",
     "output_type": "stream",
     "text": [
      "Test accuracy for [+]: 100.00%\n"
     ]
    },
    {
     "name": "stderr",
     "output_type": "stream",
     "text": [
      "[Epoch: 1] Training loss after 56 batches: 189.030:  18%|█▊        | 55/313 [00:00<00:00, 280.86it/s]    "
     ]
    },
    {
     "name": "stdout",
     "output_type": "stream",
     "text": [
      "Test accuracy for [-]: 99.98%\n"
     ]
    },
    {
     "name": "stderr",
     "output_type": "stream",
     "text": [
      "[Epoch: 1] Training loss after 47 batches: 0.292:  15%|█▍        | 46/313 [00:00<00:01, 251.30it/s]    "
     ]
    },
    {
     "name": "stdout",
     "output_type": "stream",
     "text": [
      "Test accuracy for [*]: 100.00%\n"
     ]
    },
    {
     "name": "stderr",
     "output_type": "stream",
     "text": [
      "[Epoch: 1] Training loss after 55 batches: 0.477:  17%|█▋        | 54/313 [00:00<00:00, 282.55it/s]        "
     ]
    },
    {
     "name": "stdout",
     "output_type": "stream",
     "text": [
      "Test accuracy for [/]: 98.90%\n"
     ]
    },
    {
     "name": "stderr",
     "output_type": "stream",
     "text": [
      "[Epoch: 1] Training loss after 49 batches: 231.126:  15%|█▌        | 48/313 [00:00<00:01, 250.78it/s]   "
     ]
    },
    {
     "name": "stdout",
     "output_type": "stream",
     "text": [
      "Test accuracy for [sqrt]: 100.00%\n"
     ]
    },
    {
     "name": "stderr",
     "output_type": "stream",
     "text": [
      "                                                                                                        \r"
     ]
    },
    {
     "name": "stdout",
     "output_type": "stream",
     "text": [
      "Test accuracy for [^2]: 100.00%\n"
     ]
    }
   ],
   "source": [
    "eps = 1e-12\n",
    "ops = ['+', '-', '*', '/', 'sqrt', '^2']\n",
    "test_scores = {}\n",
    "\n",
    "for op in ops:\n",
    "    X_train, Y_train = make_data(10, 20, 10000, op)\n",
    "    X_valid, Y_valid = make_data(10, 20, 2000, op)\n",
    "    X_test, Y_test = make_data(0, 30, 10000, op) # Test set contains both interpolated\n",
    "                                                 # and extrapolated data\n",
    "    \n",
    "    if op == '^2':\n",
    "        model = nn.Sequential(NALU(X_train.shape[1], 2), NALU(2, 1))\n",
    "    else:\n",
    "        model = NALU(X_train.shape[1], 1)\n",
    "    model = train(model, nn.SmoothL1Loss(), RMSprop, X_train, Y_train,\n",
    "                  X_valid, Y_valid, patience=15, batch_size=32)\n",
    "    \n",
    "    test_preds, test_targets = get_eval_preds(model, X_test,\n",
    "                                              Y_test, 32, False)\n",
    "    \n",
    "    test_acc = accuracy_score(test_preds, test_targets)\n",
    "    \n",
    "    print('Test accuracy for [{}]: {:.2f}%'.format(op, test_acc))\n",
    "    \n",
    "    if op == 'sqrt':\n",
    "        test_scores['sqrt(a)'] = test_acc\n",
    "    elif op == '^2':\n",
    "        test_scores['a ^ 2'] = test_acc\n",
    "    else:\n",
    "        test_scores['a '+op+' b'] = test_acc"
   ]
  },
  {
   "cell_type": "markdown",
   "metadata": {},
   "source": [
    "### Saving the results"
   ]
  },
  {
   "cell_type": "code",
   "execution_count": 6,
   "metadata": {},
   "outputs": [
    {
     "data": {
      "text/html": [
       "<div>\n",
       "<style scoped>\n",
       "    .dataframe tbody tr th:only-of-type {\n",
       "        vertical-align: middle;\n",
       "    }\n",
       "\n",
       "    .dataframe tbody tr th {\n",
       "        vertical-align: top;\n",
       "    }\n",
       "\n",
       "    .dataframe thead th {\n",
       "        text-align: right;\n",
       "    }\n",
       "</style>\n",
       "<table border=\"1\" class=\"dataframe\">\n",
       "  <thead>\n",
       "    <tr style=\"text-align: right;\">\n",
       "      <th></th>\n",
       "      <th>Accuracy</th>\n",
       "    </tr>\n",
       "  </thead>\n",
       "  <tbody>\n",
       "    <tr>\n",
       "      <th>a + b</th>\n",
       "      <td>100.00</td>\n",
       "    </tr>\n",
       "    <tr>\n",
       "      <th>a - b</th>\n",
       "      <td>99.98</td>\n",
       "    </tr>\n",
       "    <tr>\n",
       "      <th>a * b</th>\n",
       "      <td>100.00</td>\n",
       "    </tr>\n",
       "    <tr>\n",
       "      <th>a / b</th>\n",
       "      <td>98.90</td>\n",
       "    </tr>\n",
       "    <tr>\n",
       "      <th>sqrt(a)</th>\n",
       "      <td>100.00</td>\n",
       "    </tr>\n",
       "    <tr>\n",
       "      <th>a ^ 2</th>\n",
       "      <td>100.00</td>\n",
       "    </tr>\n",
       "  </tbody>\n",
       "</table>\n",
       "</div>"
      ],
      "text/plain": [
       "         Accuracy\n",
       "a + b      100.00\n",
       "a - b       99.98\n",
       "a * b      100.00\n",
       "a / b       98.90\n",
       "sqrt(a)    100.00\n",
       "a ^ 2      100.00"
      ]
     },
     "execution_count": 6,
     "metadata": {},
     "output_type": "execute_result"
    }
   ],
   "source": [
    "results = pd.DataFrame.from_dict(test_scores, orient='index', columns=['Accuracy'])\n",
    "results.to_csv('results.csv', index=False)\n",
    "results.head(6)"
   ]
  },
  {
   "cell_type": "code",
   "execution_count": null,
   "metadata": {},
   "outputs": [],
   "source": []
  }
 ],
 "metadata": {
  "kernelspec": {
   "display_name": "Python 3",
   "language": "python",
   "name": "python3"
  },
  "language_info": {
   "codemirror_mode": {
    "name": "ipython",
    "version": 3
   },
   "file_extension": ".py",
   "mimetype": "text/x-python",
   "name": "python",
   "nbconvert_exporter": "python",
   "pygments_lexer": "ipython3",
   "version": "3.6.6"
  }
 },
 "nbformat": 4,
 "nbformat_minor": 2
}
